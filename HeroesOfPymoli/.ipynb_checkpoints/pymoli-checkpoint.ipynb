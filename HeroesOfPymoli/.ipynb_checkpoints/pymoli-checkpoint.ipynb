{
 "cells": [
  {
   "cell_type": "markdown",
   "metadata": {},
   "source": [
    "### Note\n",
    "* Instructions have been included for each segment. You do not have to follow them exactly, but they are included to help you think through the steps."
   ]
  },
  {
   "cell_type": "code",
   "execution_count": 191,
   "metadata": {},
   "outputs": [
    {
     "data": {
      "text/html": [
       "<div>\n",
       "<style scoped>\n",
       "    .dataframe tbody tr th:only-of-type {\n",
       "        vertical-align: middle;\n",
       "    }\n",
       "\n",
       "    .dataframe tbody tr th {\n",
       "        vertical-align: top;\n",
       "    }\n",
       "\n",
       "    .dataframe thead th {\n",
       "        text-align: right;\n",
       "    }\n",
       "</style>\n",
       "<table border=\"1\" class=\"dataframe\">\n",
       "  <thead>\n",
       "    <tr style=\"text-align: right;\">\n",
       "      <th></th>\n",
       "      <th>Purchase ID</th>\n",
       "      <th>SN</th>\n",
       "      <th>Age</th>\n",
       "      <th>Gender</th>\n",
       "      <th>Item ID</th>\n",
       "      <th>Item Name</th>\n",
       "      <th>Price</th>\n",
       "    </tr>\n",
       "  </thead>\n",
       "  <tbody>\n",
       "    <tr>\n",
       "      <th>0</th>\n",
       "      <td>0</td>\n",
       "      <td>Lisim78</td>\n",
       "      <td>20</td>\n",
       "      <td>Male</td>\n",
       "      <td>108</td>\n",
       "      <td>Extraction, Quickblade Of Trembling Hands</td>\n",
       "      <td>3.53</td>\n",
       "    </tr>\n",
       "    <tr>\n",
       "      <th>1</th>\n",
       "      <td>1</td>\n",
       "      <td>Lisovynya38</td>\n",
       "      <td>40</td>\n",
       "      <td>Male</td>\n",
       "      <td>143</td>\n",
       "      <td>Frenzied Scimitar</td>\n",
       "      <td>1.56</td>\n",
       "    </tr>\n",
       "    <tr>\n",
       "      <th>2</th>\n",
       "      <td>2</td>\n",
       "      <td>Ithergue48</td>\n",
       "      <td>24</td>\n",
       "      <td>Male</td>\n",
       "      <td>92</td>\n",
       "      <td>Final Critic</td>\n",
       "      <td>4.88</td>\n",
       "    </tr>\n",
       "    <tr>\n",
       "      <th>3</th>\n",
       "      <td>3</td>\n",
       "      <td>Chamassasya86</td>\n",
       "      <td>24</td>\n",
       "      <td>Male</td>\n",
       "      <td>100</td>\n",
       "      <td>Blindscythe</td>\n",
       "      <td>3.27</td>\n",
       "    </tr>\n",
       "    <tr>\n",
       "      <th>4</th>\n",
       "      <td>4</td>\n",
       "      <td>Iskosia90</td>\n",
       "      <td>23</td>\n",
       "      <td>Male</td>\n",
       "      <td>131</td>\n",
       "      <td>Fury</td>\n",
       "      <td>1.44</td>\n",
       "    </tr>\n",
       "  </tbody>\n",
       "</table>\n",
       "</div>"
      ],
      "text/plain": [
       "   Purchase ID             SN  Age Gender  Item ID  \\\n",
       "0            0        Lisim78   20   Male      108   \n",
       "1            1    Lisovynya38   40   Male      143   \n",
       "2            2     Ithergue48   24   Male       92   \n",
       "3            3  Chamassasya86   24   Male      100   \n",
       "4            4      Iskosia90   23   Male      131   \n",
       "\n",
       "                                   Item Name  Price  \n",
       "0  Extraction, Quickblade Of Trembling Hands   3.53  \n",
       "1                          Frenzied Scimitar   1.56  \n",
       "2                               Final Critic   4.88  \n",
       "3                                Blindscythe   3.27  \n",
       "4                                       Fury   1.44  "
      ]
     },
     "execution_count": 191,
     "metadata": {},
     "output_type": "execute_result"
    }
   ],
   "source": [
    "# Dependencies and Setup\n",
    "import pandas as pd\n",
    "import os\n",
    "import numpy as np\n",
    "\n",
    "# File to Load (Remember to Change These)\n",
    "load_file_path = os.path.join(\"..\", \"Resources\", \"purchase_data.csv\")\n",
    "\n",
    "# Read Purchasing File and store into Pandas data frame\n",
    "main_df = pd.read_csv(load_file_path)\n",
    "\n",
    "# Test loading of CSV, view file layout\n",
    "main_df.head()"
   ]
  },
  {
   "cell_type": "code",
   "execution_count": 192,
   "metadata": {},
   "outputs": [
    {
     "data": {
      "text/plain": [
       "Purchase ID    780\n",
       "SN             780\n",
       "Age            780\n",
       "Gender         780\n",
       "Item ID        780\n",
       "Item Name      780\n",
       "Price          780\n",
       "dtype: int64"
      ]
     },
     "execution_count": 192,
     "metadata": {},
     "output_type": "execute_result"
    }
   ],
   "source": [
    "# Verify that no missing values exist in df\n",
    "main_df.count()"
   ]
  },
  {
   "cell_type": "markdown",
   "metadata": {},
   "source": [
    "## Player Count"
   ]
  },
  {
   "cell_type": "markdown",
   "metadata": {},
   "source": [
    "* Display the total number of players\n"
   ]
  },
  {
   "cell_type": "code",
   "execution_count": 193,
   "metadata": {},
   "outputs": [
    {
     "data": {
      "text/html": [
       "<div>\n",
       "<style scoped>\n",
       "    .dataframe tbody tr th:only-of-type {\n",
       "        vertical-align: middle;\n",
       "    }\n",
       "\n",
       "    .dataframe tbody tr th {\n",
       "        vertical-align: top;\n",
       "    }\n",
       "\n",
       "    .dataframe thead th {\n",
       "        text-align: right;\n",
       "    }\n",
       "</style>\n",
       "<table border=\"1\" class=\"dataframe\">\n",
       "  <thead>\n",
       "    <tr style=\"text-align: right;\">\n",
       "      <th></th>\n",
       "      <th>Purchase ID</th>\n",
       "      <th>SN</th>\n",
       "    </tr>\n",
       "  </thead>\n",
       "  <tbody>\n",
       "    <tr>\n",
       "      <th>0</th>\n",
       "      <td>0</td>\n",
       "      <td>Lisim78</td>\n",
       "    </tr>\n",
       "    <tr>\n",
       "      <th>1</th>\n",
       "      <td>1</td>\n",
       "      <td>Lisovynya38</td>\n",
       "    </tr>\n",
       "    <tr>\n",
       "      <th>2</th>\n",
       "      <td>2</td>\n",
       "      <td>Ithergue48</td>\n",
       "    </tr>\n",
       "    <tr>\n",
       "      <th>3</th>\n",
       "      <td>3</td>\n",
       "      <td>Chamassasya86</td>\n",
       "    </tr>\n",
       "    <tr>\n",
       "      <th>4</th>\n",
       "      <td>4</td>\n",
       "      <td>Iskosia90</td>\n",
       "    </tr>\n",
       "  </tbody>\n",
       "</table>\n",
       "</div>"
      ],
      "text/plain": [
       "   Purchase ID             SN\n",
       "0            0        Lisim78\n",
       "1            1    Lisovynya38\n",
       "2            2     Ithergue48\n",
       "3            3  Chamassasya86\n",
       "4            4      Iskosia90"
      ]
     },
     "execution_count": 193,
     "metadata": {},
     "output_type": "execute_result"
    }
   ],
   "source": [
    "# OPTIONAL: Create narrow df with only 2 columns to prep for simplified groupby\n",
    "count_df = main_df.loc[:, ['Purchase ID', 'SN']]\n",
    "count_df.head()"
   ]
  },
  {
   "cell_type": "code",
   "execution_count": 194,
   "metadata": {},
   "outputs": [
    {
     "name": "stdout",
     "output_type": "stream",
     "text": [
      "               Purchase ID\n",
      "SN                        \n",
      "Adairialis76             1\n",
      "Adastirin33              1\n",
      "Aeda94                   1\n",
      "Aela59                   1\n",
      "Aelaria33                1\n",
      "...                    ...\n",
      "Yathecal82               3\n",
      "Yathedeu43               2\n",
      "Yoishirrala98            1\n",
      "Zhisrisu83               2\n",
      "Zontibe81                3\n",
      "\n",
      "[576 rows x 1 columns]\n"
     ]
    }
   ],
   "source": [
    "# Group narrowed df by Screen Name and generate a count\n",
    "player_df = count_df.groupby([\"SN\"]).count()\n",
    "print(player_df)"
   ]
  },
  {
   "cell_type": "code",
   "execution_count": 195,
   "metadata": {},
   "outputs": [
    {
     "name": "stdout",
     "output_type": "stream",
     "text": [
      "576\n",
      "   Total Players\n",
      "0            576\n"
     ]
    }
   ],
   "source": [
    "# Count rows in grouped table to generate count of Screen Names (i.e., unique players)\n",
    "total_players = len(player_df)\n",
    "print(total_players)\n",
    "\n",
    "# Create summary table showing player count\n",
    "summary_players = pd.DataFrame({\"Total Players\": total_players}, index=[0])\n",
    "print(summary_players)"
   ]
  },
  {
   "cell_type": "markdown",
   "metadata": {},
   "source": [
    "## Purchasing Analysis (Total)"
   ]
  },
  {
   "cell_type": "markdown",
   "metadata": {},
   "source": [
    "* Run basic calculations to obtain number of unique items, average price, etc.\n",
    "\n",
    "\n",
    "* Create a summary data frame to hold the results\n",
    "\n",
    "\n",
    "* Optional: give the displayed data cleaner formatting\n",
    "\n",
    "\n",
    "* Display the summary data frame\n"
   ]
  },
  {
   "cell_type": "code",
   "execution_count": 196,
   "metadata": {
    "scrolled": true
   },
   "outputs": [
    {
     "name": "stdout",
     "output_type": "stream",
     "text": [
      "780\n",
      "179\n"
     ]
    }
   ],
   "source": [
    "# Use main_df to calculate total purchases\n",
    "total_purchases = len(main_df)\n",
    "print(total_purchases)\n",
    "\n",
    "# Use main_df to calculate number of unique items, and total revenue\n",
    "item_df = main_df.groupby(['Item ID'])\n",
    "total_items = len(item_df)\n",
    "print(total_items)"
   ]
  },
  {
   "cell_type": "code",
   "execution_count": 197,
   "metadata": {},
   "outputs": [
    {
     "name": "stdout",
     "output_type": "stream",
     "text": [
      "3.050987179487176\n",
      "2379.77\n",
      "   Total Purchases  Number of Unique Items  Average Price  Total Revenue\n",
      "0              780                     179       3.050987        2379.77\n"
     ]
    }
   ],
   "source": [
    "# Use main_df to calculate average price\n",
    "average_price = main_df[\"Price\"].mean()\n",
    "print(average_price)\n",
    "\n",
    "# Use main_df to calculate total revenue\n",
    "total_rev = main_df[\"Price\"].sum()\n",
    "print(total_rev)\n",
    "\n",
    "# Create summary table showing purchasing analysis values\n",
    "summary_purchasing = pd.DataFrame({\"Total Purchases\": total_purchases,\n",
    "                                  \"Number of Unique Items\": total_items,\n",
    "                                  \"Average Price\": average_price,\n",
    "                                  \"Total Revenue\": total_rev},\n",
    "                                 index=[0])\n",
    "print(summary_purchasing)"
   ]
  },
  {
   "cell_type": "markdown",
   "metadata": {},
   "source": [
    "## Gender Demographics"
   ]
  },
  {
   "cell_type": "markdown",
   "metadata": {},
   "source": [
    "* Percentage and Count of Male Players\n",
    "\n",
    "\n",
    "* Percentage and Count of Female Players\n",
    "\n",
    "\n",
    "* Percentage and Count of Other / Non-Disclosed\n",
    "\n",
    "\n"
   ]
  },
  {
   "cell_type": "code",
   "execution_count": 198,
   "metadata": {},
   "outputs": [
    {
     "name": "stdout",
     "output_type": "stream",
     "text": [
      "                       Purchase ID   SN  Age  Item ID  Item Name  Price\n",
      "Gender                                                                 \n",
      "Female                          81   81   81       81         81     81\n",
      "Male                           484  484  484      484        484    484\n",
      "Other / Non-Disclosed           11   11   11       11         11     11\n",
      "Gender\n",
      "Female                   14.062500\n",
      "Male                     84.027778\n",
      "Other / Non-Disclosed     1.909722\n",
      "Name: SN, dtype: float64\n",
      "                       Total Players  Percentage of Players\n",
      "Gender                                                     \n",
      "Female                            81              14.062500\n",
      "Male                             484              84.027778\n",
      "Other / Non-Disclosed             11               1.909722\n"
     ]
    }
   ],
   "source": [
    "# Use main_df to calculate gender stats\n",
    "\n",
    "# Narrow main_df to relevant columns\n",
    "# loc_gender_df = main_df.loc[:, [\"SN\", \"Gender\"]]\n",
    "# print(loc_gender_df)\n",
    "\n",
    "# Remove duplicate Screen Names from df, reindex in order to avoid Setting with Copy warning for future operations on df\n",
    "unique_gender_df = main_df.drop_duplicates(subset=\"SN\", keep='first').reset_index(drop=True)\n",
    "# print(unique_gender_df)\n",
    "\n",
    "# Group by Gender to get number of male/female\n",
    "gender_df = unique_gender_df.groupby(['Gender'])\n",
    "gender_count = gender_df.count()\n",
    "print(gender_count)\n",
    "\n",
    "# Generate percentages list (?)\n",
    "percent_list = (gender_count[\"SN\"]/total_players) * 100\n",
    "print(percent_list)\n",
    "\n",
    "# Create summary table showing gender demographics values\n",
    "summary_gender = pd.DataFrame({\"Total Players\": gender_count[\"Purchase ID\"],\n",
    "                              \"Percentage of Players\": percent_list})\n",
    "print(summary_gender)"
   ]
  },
  {
   "cell_type": "markdown",
   "metadata": {},
   "source": [
    "\n",
    "## Purchasing Analysis (Gender)"
   ]
  },
  {
   "cell_type": "markdown",
   "metadata": {},
   "source": [
    "* Run basic calculations to obtain purchase count, avg. purchase price, avg. purchase total per person etc. by gender\n",
    "\n",
    "\n",
    "\n",
    "\n",
    "* Create a summary data frame to hold the results\n",
    "\n",
    "\n",
    "* Optional: give the displayed data cleaner formatting\n",
    "\n",
    "\n",
    "* Display the summary data frame"
   ]
  },
  {
   "cell_type": "code",
   "execution_count": 199,
   "metadata": {},
   "outputs": [
    {
     "name": "stdout",
     "output_type": "stream",
     "text": [
      "                       Total Purchases  Average Purchase Price  \\\n",
      "Gender                                                           \n",
      "Female                             113                3.203009   \n",
      "Male                               652                3.017853   \n",
      "Other / Non-Disclosed               15                3.346000   \n",
      "\n",
      "                       Total Purchase Value  \n",
      "Gender                                       \n",
      "Female                               361.94  \n",
      "Male                                1967.64  \n",
      "Other / Non-Disclosed                 50.19  \n"
     ]
    }
   ],
   "source": [
    "# Create a df grouped by gender\n",
    "gender_pur_df = main_df.groupby(\"Gender\")\n",
    "\n",
    "# Calculate the total purchases by gender\n",
    "pur_count_gender = gender_pur_df[\"Purchase ID\"].count()\n",
    "pur_count_gender\n",
    "\n",
    "# Calculate the average purchase price by gender\n",
    "avg_price_gender = gender_pur_df[\"Price\"].mean()\n",
    "avg_price_gender\n",
    "\n",
    "# Calculate the total purchase value by gender\n",
    "total_pur_gender = gender_pur_df[\"Price\"].sum()\n",
    "total_pur_gender\n",
    "\n",
    "# Create a summary table showing purchase stats by gender\n",
    "gender_per_pers = pd.DataFrame({\"Total Purchases\": pur_count_gender,\n",
    "                               \"Average Purchase Price\": avg_price_gender,\n",
    "                               \"Total Purchase Value\": total_pur_gender})\n",
    "print(gender_per_pers)"
   ]
  },
  {
   "cell_type": "markdown",
   "metadata": {},
   "source": [
    "## Age Demographics"
   ]
  },
  {
   "cell_type": "markdown",
   "metadata": {},
   "source": [
    "* Establish bins for ages\n",
    "\n",
    "\n",
    "* Categorize the existing players using the age bins. Hint: use pd.cut()\n",
    "\n",
    "\n",
    "* Calculate the numbers and percentages by age group\n",
    "\n",
    "\n",
    "* Create a summary data frame to hold the results\n",
    "\n",
    "\n",
    "* Optional: round the percentage column to two decimal points\n",
    "\n",
    "\n",
    "* Display Age Demographics Table\n"
   ]
  },
  {
   "cell_type": "code",
   "execution_count": 200,
   "metadata": {},
   "outputs": [
    {
     "name": "stdout",
     "output_type": "stream",
     "text": [
      "           Total Players  Percentage of Players\n",
      "Age Range                                      \n",
      "<10                   17               2.951389\n",
      "10-14                 22               3.819444\n",
      "15-19                107              18.576389\n",
      "20-24                258              44.791667\n",
      "25-29                 77              13.368056\n",
      "30-34                 52               9.027778\n",
      "35-39                 31               5.381944\n",
      "40+                   12               2.083333\n"
     ]
    }
   ],
   "source": [
    "# Create bins for ages\n",
    "bins = [0, 9, 14, 19, 24, 29, 34, 39, 120]\n",
    "\n",
    "# Establish bin names\n",
    "bin_names = [\"<10\", \"10-14\", \"15-19\", \"20-24\", \"25-29\", \"30-34\", \"35-39\", \"40+\"]\n",
    "\n",
    "# Add age range column to df by cutting the df by age\n",
    "unique_gender_df[\"Age Range\"] = pd.cut(unique_gender_df[\"Age\"], bins, labels=bin_names)\n",
    "unique_gender_df.head()\n",
    "\n",
    "# Create a new df grouped by the age range column and calculate the total players in each age range\n",
    "age_df = unique_gender_df.groupby(['Age Range'])\n",
    "count_age = age_df[\"Gender\"].count()\n",
    "# print(count_age)\n",
    "\n",
    "# Calculate the percentage of players in each age range\n",
    "percent_age = (count_age / total_players) * 100\n",
    "\n",
    "# Create a summary table showing age breakdown of players\n",
    "summary_age = pd.DataFrame({\"Total Players\": count_age,\n",
    "                           \"Percentage of Players\": percent_age})\n",
    "print(summary_age)"
   ]
  },
  {
   "cell_type": "markdown",
   "metadata": {},
   "source": [
    "## Purchasing Analysis (Age)"
   ]
  },
  {
   "cell_type": "markdown",
   "metadata": {},
   "source": [
    "* Bin the purchase_data data frame by age\n",
    "\n",
    "\n",
    "* Run basic calculations to obtain purchase count, avg. purchase price, avg. purchase total per person etc. in the table below\n",
    "\n",
    "\n",
    "* Create a summary data frame to hold the results\n",
    "\n",
    "\n",
    "* Optional: give the displayed data cleaner formatting\n",
    "\n",
    "\n",
    "* Display the summary data frame"
   ]
  },
  {
   "cell_type": "code",
   "execution_count": 217,
   "metadata": {},
   "outputs": [
    {
     "name": "stdout",
     "output_type": "stream",
     "text": [
      "           Purchase Count  Average Purchase Price  Total Purchase Value  \\\n",
      "Age Range                                                                 \n",
      "<10                    23                3.353478                 77.13   \n",
      "10-14                  28                2.956429                 82.78   \n",
      "15-19                 136                3.035956                412.89   \n",
      "20-24                 365                3.052219               1114.06   \n",
      "25-29                 101                2.900990                293.00   \n",
      "30-34                  73                2.931507                214.00   \n",
      "35-39                  41                3.601707                147.67   \n",
      "40+                    13                2.941538                 38.24   \n",
      "\n",
      "           Avg Total Purchase per Person  \n",
      "Age Range                                 \n",
      "<10                             4.537059  \n",
      "10-14                           3.762727  \n",
      "15-19                           3.858785  \n",
      "20-24                           4.318062  \n",
      "25-29                           3.805195  \n",
      "30-34                           4.115385  \n",
      "35-39                           4.763548  \n",
      "40+                             3.186667  \n"
     ]
    }
   ],
   "source": [
    "# Create an age range column in the full (non-unique) df by cutting the df by age\n",
    "main_df[\"Age Range\"] = pd.cut(main_df[\"Age\"], bins, labels=bin_names)\n",
    "# main_df()\n",
    "\n",
    "# Create a new df grouped by age range\n",
    "age_group_df = main_df.groupby(['Age Range'])\n",
    "\n",
    "# Calculate the total purchases by age range\n",
    "purchase_age = age_group_df[\"Purchase ID\"].count()\n",
    "# print(purchase_age)\n",
    "\n",
    "# Calculate the average purchase price by age range\n",
    "avgprice_age = age_group_df[\"Price\"].mean()\n",
    "# print(avgprice_age)\n",
    "\n",
    "# Calculate the total purchases by age range\n",
    "totalpurch_age = age_group_df[\"Price\"].sum()\n",
    "# print(totalpurch_age)\n",
    "\n",
    "# Calculate the average total purchases per person by age range\n",
    "age_group_df = main_df.groupby([\"SN\"])\n",
    "# print(age_group_df)\n",
    "\n",
    "pur_per_pers_df = age_group_df[\"Price\"].sum()\n",
    "# print(pur_per_pers_df)\n",
    "\n",
    "merge_purch_df = pd.merge(unique_gender_df, pur_per_pers_df, how='left', on='SN')\n",
    "# print(merge_purch_df)\n",
    "\n",
    "merge_group_df = merge_purch_df.groupby(['Age Range'])\n",
    "purch_per_pers_gen = merge_group_df[\"Price_y\"].mean()\n",
    "# print(purch_per_pers_gen)\n",
    "\n",
    "summary_purch_age = pd.DataFrame({\"Purchase Count\": purchase_age,\n",
    "                           \"Average Purchase Price\": avgprice_age,\n",
    "                                 \"Total Purchase Value\": totalpurch_age,\n",
    "                                 \"Avg Total Purchase per Person\": purch_per_pers_gen})\n",
    "print(summary_purch_age)"
   ]
  },
  {
   "cell_type": "markdown",
   "metadata": {},
   "source": [
    "## Top Spenders"
   ]
  },
  {
   "cell_type": "markdown",
   "metadata": {},
   "source": [
    "* Run basic calculations to obtain the results in the table below\n",
    "\n",
    "\n",
    "* Create a summary data frame to hold the results\n",
    "\n",
    "\n",
    "* Sort the total purchase value column in descending order\n",
    "\n",
    "\n",
    "* Optional: give the displayed data cleaner formatting\n",
    "\n",
    "\n",
    "* Display a preview of the summary data frame\n",
    "\n"
   ]
  },
  {
   "cell_type": "code",
   "execution_count": 8,
   "metadata": {},
   "outputs": [
    {
     "data": {
      "text/html": [
       "<div>\n",
       "<style scoped>\n",
       "    .dataframe tbody tr th:only-of-type {\n",
       "        vertical-align: middle;\n",
       "    }\n",
       "\n",
       "    .dataframe tbody tr th {\n",
       "        vertical-align: top;\n",
       "    }\n",
       "\n",
       "    .dataframe thead th {\n",
       "        text-align: right;\n",
       "    }\n",
       "</style>\n",
       "<table border=\"1\" class=\"dataframe\">\n",
       "  <thead>\n",
       "    <tr style=\"text-align: right;\">\n",
       "      <th></th>\n",
       "      <th>Purchase Count</th>\n",
       "      <th>Average Purchase Price</th>\n",
       "      <th>Total Purchase Value</th>\n",
       "    </tr>\n",
       "    <tr>\n",
       "      <th>SN</th>\n",
       "      <th></th>\n",
       "      <th></th>\n",
       "      <th></th>\n",
       "    </tr>\n",
       "  </thead>\n",
       "  <tbody>\n",
       "    <tr>\n",
       "      <th>Lisosia93</th>\n",
       "      <td>5</td>\n",
       "      <td>$3.79</td>\n",
       "      <td>$18.96</td>\n",
       "    </tr>\n",
       "    <tr>\n",
       "      <th>Idastidru52</th>\n",
       "      <td>4</td>\n",
       "      <td>$3.86</td>\n",
       "      <td>$15.45</td>\n",
       "    </tr>\n",
       "    <tr>\n",
       "      <th>Chamjask73</th>\n",
       "      <td>3</td>\n",
       "      <td>$4.61</td>\n",
       "      <td>$13.83</td>\n",
       "    </tr>\n",
       "    <tr>\n",
       "      <th>Iral74</th>\n",
       "      <td>4</td>\n",
       "      <td>$3.40</td>\n",
       "      <td>$13.62</td>\n",
       "    </tr>\n",
       "    <tr>\n",
       "      <th>Iskadarya95</th>\n",
       "      <td>3</td>\n",
       "      <td>$4.37</td>\n",
       "      <td>$13.10</td>\n",
       "    </tr>\n",
       "  </tbody>\n",
       "</table>\n",
       "</div>"
      ],
      "text/plain": [
       "             Purchase Count Average Purchase Price Total Purchase Value\n",
       "SN                                                                     \n",
       "Lisosia93                 5                  $3.79               $18.96\n",
       "Idastidru52               4                  $3.86               $15.45\n",
       "Chamjask73                3                  $4.61               $13.83\n",
       "Iral74                    4                  $3.40               $13.62\n",
       "Iskadarya95               3                  $4.37               $13.10"
      ]
     },
     "execution_count": 8,
     "metadata": {},
     "output_type": "execute_result"
    }
   ],
   "source": [
    "sorted_age_group_df = age_group_df.sort_values(\"\")"
   ]
  },
  {
   "cell_type": "markdown",
   "metadata": {},
   "source": [
    "## Most Popular Items"
   ]
  },
  {
   "cell_type": "markdown",
   "metadata": {},
   "source": [
    "* Retrieve the Item ID, Item Name, and Item Price columns\n",
    "\n",
    "\n",
    "* Group by Item ID and Item Name. Perform calculations to obtain purchase count, average item price, and total purchase value\n",
    "\n",
    "\n",
    "* Create a summary data frame to hold the results\n",
    "\n",
    "\n",
    "* Sort the purchase count column in descending order\n",
    "\n",
    "\n",
    "* Optional: give the displayed data cleaner formatting\n",
    "\n",
    "\n",
    "* Display a preview of the summary data frame\n",
    "\n"
   ]
  },
  {
   "cell_type": "code",
   "execution_count": 227,
   "metadata": {},
   "outputs": [
    {
     "data": {
      "text/plain": [
       "Item ID  Item Name                                   \n",
       "0        Splinter                                         5.12\n",
       "1        Crucifer                                        11.77\n",
       "2        Verdict                                         14.88\n",
       "3        Phantomlight                                    14.94\n",
       "4        Bloodlord's Fetish                               8.50\n",
       "                                                         ...  \n",
       "178      Oathbreaker, Last Hope of the Breaking Storm    50.76\n",
       "179      Wolf, Promise of the Moonwalker                 26.88\n",
       "181      Reaper's Toll                                    8.30\n",
       "182      Toothpick                                       12.09\n",
       "183      Dragon's Greatsword                              3.27\n",
       "Name: Price, Length: 179, dtype: float64"
      ]
     },
     "execution_count": 227,
     "metadata": {},
     "output_type": "execute_result"
    }
   ],
   "source": [
    "items_df = main_df.loc[:, [\"Item ID\", \"Item Name\", \"Price\"]]\n",
    "items_df\n",
    "\n",
    "total_purchval_by_item = items_df.groupby([\"Item ID\", \"Item Name\"]).sum()[\"Price\"]\n",
    "total_purchval_by_item\n",
    "\n",
    "total_purch_by_item = items_df.groupby([\"Item ID\", \"Item Name\"]).sum()[\"Price\"]\n",
    "total_purch_by_item"
   ]
  },
  {
   "cell_type": "code",
   "execution_count": 223,
   "metadata": {},
   "outputs": [
    {
     "name": "stdout",
     "output_type": "stream",
     "text": [
      "Item ID  Item Name                                   \n",
      "0        Splinter                                         4\n",
      "1        Crucifer                                         4\n",
      "2        Verdict                                          6\n",
      "3        Phantomlight                                     6\n",
      "4        Bloodlord's Fetish                               5\n",
      "                                                         ..\n",
      "178      Oathbreaker, Last Hope of the Breaking Storm    12\n",
      "179      Wolf, Promise of the Moonwalker                  6\n",
      "181      Reaper's Toll                                    5\n",
      "182      Toothpick                                        3\n",
      "183      Dragon's Greatsword                              3\n",
      "Name: Price, Length: 179, dtype: int64\n",
      "Item ID  Item Name                                   \n",
      "0        Splinter                                        1.2800\n",
      "1        Crucifer                                        2.9425\n",
      "2        Verdict                                         2.4800\n",
      "3        Phantomlight                                    2.4900\n",
      "4        Bloodlord's Fetish                              1.7000\n",
      "                                                          ...  \n",
      "178      Oathbreaker, Last Hope of the Breaking Storm    4.2300\n",
      "179      Wolf, Promise of the Moonwalker                 4.4800\n",
      "181      Reaper's Toll                                   1.6600\n",
      "182      Toothpick                                       4.0300\n",
      "183      Dragon's Greatsword                             1.0900\n",
      "Name: Price, Length: 179, dtype: float64\n"
     ]
    }
   ],
   "source": [
    "# Narrow df to 3 item columns\n",
    "pop_df = main_df[[\"Item ID\", \"Item Name\", \"Price\"]]\n",
    "\n",
    "pop_group_df = pop_df.groupby(['Item ID', 'Item Name'])\n",
    "\n",
    "purchase_count = pop_group_df['Price'].count()\n",
    "print(purchase_count)\n",
    "\n",
    "avg_item_price = pop_group_df['Price'].mean()\n",
    "print(avg_item_price)"
   ]
  },
  {
   "cell_type": "code",
   "execution_count": 224,
   "metadata": {},
   "outputs": [
    {
     "name": "stdout",
     "output_type": "stream",
     "text": [
      "         Price_x  Price_y\n",
      "Item ID                  \n",
      "0         1.2800        4\n",
      "1         2.9425        4\n",
      "2         2.4800        6\n",
      "3         2.4900        6\n",
      "4         1.7000        5\n",
      "...          ...      ...\n",
      "178       4.2300       12\n",
      "179       4.4800        6\n",
      "181       1.6600        5\n",
      "182       4.0300        3\n",
      "183       1.0900        3\n",
      "\n",
      "[179 rows x 2 columns]\n",
      "         Price_x  Price_y  Price\n",
      "Item ID                         \n",
      "0         1.2800        4   5.12\n",
      "1         2.9425        4  11.77\n",
      "2         2.4800        6  14.88\n",
      "3         2.4900        6  14.94\n",
      "4         1.7000        5   8.50\n",
      "...          ...      ...    ...\n",
      "178       4.2300       12  50.76\n",
      "179       4.4800        6  26.88\n",
      "181       1.6600        5   8.30\n",
      "182       4.0300        3  12.09\n",
      "183       1.0900        3   3.27\n",
      "\n",
      "[179 rows x 3 columns]\n"
     ]
    }
   ],
   "source": [
    "total_purchase_value = pop_group_df['Price'].sum()\n",
    "# print(total_purchase_value)\n",
    "\n",
    "merge_pop_df = pd.merge(avg_item_price, purchase_count, how='inner', on='Item ID')\n",
    "print(merge_pop_df)\n",
    "\n",
    "merge_pop_df_two = pd.merge(merge_pop_df, total_purchase_value, how='inner', on='Item ID')\n",
    "print(merge_pop_df_two)\n",
    "\n",
    "# Rename columns"
   ]
  },
  {
   "cell_type": "markdown",
   "metadata": {},
   "source": [
    "## Most Profitable Items"
   ]
  },
  {
   "cell_type": "markdown",
   "metadata": {},
   "source": [
    "* Sort the above table by total purchase value in descending order\n",
    "\n",
    "\n",
    "* Optional: give the displayed data cleaner formatting\n",
    "\n",
    "\n",
    "* Display a preview of the data frame\n",
    "\n"
   ]
  },
  {
   "cell_type": "code",
   "execution_count": 10,
   "metadata": {
    "scrolled": true
   },
   "outputs": [
    {
     "data": {
      "text/html": [
       "<div>\n",
       "<style scoped>\n",
       "    .dataframe tbody tr th:only-of-type {\n",
       "        vertical-align: middle;\n",
       "    }\n",
       "\n",
       "    .dataframe tbody tr th {\n",
       "        vertical-align: top;\n",
       "    }\n",
       "\n",
       "    .dataframe thead th {\n",
       "        text-align: right;\n",
       "    }\n",
       "</style>\n",
       "<table border=\"1\" class=\"dataframe\">\n",
       "  <thead>\n",
       "    <tr style=\"text-align: right;\">\n",
       "      <th></th>\n",
       "      <th></th>\n",
       "      <th>Purchase Count</th>\n",
       "      <th>Item Price</th>\n",
       "      <th>Total Purchase Value</th>\n",
       "    </tr>\n",
       "    <tr>\n",
       "      <th>Item ID</th>\n",
       "      <th>Item Name</th>\n",
       "      <th></th>\n",
       "      <th></th>\n",
       "      <th></th>\n",
       "    </tr>\n",
       "  </thead>\n",
       "  <tbody>\n",
       "    <tr>\n",
       "      <th>92</th>\n",
       "      <th>Final Critic</th>\n",
       "      <td>13</td>\n",
       "      <td>$4.61</td>\n",
       "      <td>$59.99</td>\n",
       "    </tr>\n",
       "    <tr>\n",
       "      <th>178</th>\n",
       "      <th>Oathbreaker, Last Hope of the Breaking Storm</th>\n",
       "      <td>12</td>\n",
       "      <td>$4.23</td>\n",
       "      <td>$50.76</td>\n",
       "    </tr>\n",
       "    <tr>\n",
       "      <th>82</th>\n",
       "      <th>Nirvana</th>\n",
       "      <td>9</td>\n",
       "      <td>$4.90</td>\n",
       "      <td>$44.10</td>\n",
       "    </tr>\n",
       "    <tr>\n",
       "      <th>145</th>\n",
       "      <th>Fiery Glass Crusader</th>\n",
       "      <td>9</td>\n",
       "      <td>$4.58</td>\n",
       "      <td>$41.22</td>\n",
       "    </tr>\n",
       "    <tr>\n",
       "      <th>103</th>\n",
       "      <th>Singed Scalpel</th>\n",
       "      <td>8</td>\n",
       "      <td>$4.35</td>\n",
       "      <td>$34.80</td>\n",
       "    </tr>\n",
       "  </tbody>\n",
       "</table>\n",
       "</div>"
      ],
      "text/plain": [
       "                                                     Purchase Count  \\\n",
       "Item ID Item Name                                                     \n",
       "92      Final Critic                                             13   \n",
       "178     Oathbreaker, Last Hope of the Breaking Storm             12   \n",
       "82      Nirvana                                                   9   \n",
       "145     Fiery Glass Crusader                                      9   \n",
       "103     Singed Scalpel                                            8   \n",
       "\n",
       "                                                     Item Price  \\\n",
       "Item ID Item Name                                                 \n",
       "92      Final Critic                                      $4.61   \n",
       "178     Oathbreaker, Last Hope of the Breaking Storm      $4.23   \n",
       "82      Nirvana                                           $4.90   \n",
       "145     Fiery Glass Crusader                              $4.58   \n",
       "103     Singed Scalpel                                    $4.35   \n",
       "\n",
       "                                                     Total Purchase Value  \n",
       "Item ID Item Name                                                          \n",
       "92      Final Critic                                               $59.99  \n",
       "178     Oathbreaker, Last Hope of the Breaking Storm               $50.76  \n",
       "82      Nirvana                                                    $44.10  \n",
       "145     Fiery Glass Crusader                                       $41.22  \n",
       "103     Singed Scalpel                                             $34.80  "
      ]
     },
     "execution_count": 10,
     "metadata": {},
     "output_type": "execute_result"
    }
   ],
   "source": []
  }
 ],
 "metadata": {
  "anaconda-cloud": {},
  "kernel_info": {
   "name": "python3"
  },
  "kernelspec": {
   "display_name": "Python 3",
   "language": "python",
   "name": "python3"
  },
  "language_info": {
   "codemirror_mode": {
    "name": "ipython",
    "version": 3
   },
   "file_extension": ".py",
   "mimetype": "text/x-python",
   "name": "python",
   "nbconvert_exporter": "python",
   "pygments_lexer": "ipython3",
   "version": "3.8.5"
  },
  "latex_envs": {
   "LaTeX_envs_menu_present": true,
   "autoclose": false,
   "autocomplete": true,
   "bibliofile": "biblio.bib",
   "cite_by": "apalike",
   "current_citInitial": 1,
   "eqLabelWithNumbers": true,
   "eqNumInitial": 1,
   "hotkeys": {
    "equation": "Ctrl-E",
    "itemize": "Ctrl-I"
   },
   "labels_anchors": false,
   "latex_user_defs": false,
   "report_style_numbering": false,
   "user_envs_cfg": false
  },
  "nteract": {
   "version": "0.2.0"
  }
 },
 "nbformat": 4,
 "nbformat_minor": 2
}
